{
 "cells": [
  {
   "cell_type": "code",
   "execution_count": 26,
   "metadata": {},
   "outputs": [],
   "source": [
    "import pandas as pd\n",
    "import numpy as np\n",
    "from sklearn.model_selection import train_test_split\n",
    "from sklearn.ensemble import RandomForestClassifier\n",
    "from sklearn.preprocessing import LabelEncoder\n",
    "from sklearn.metrics import accuracy_score\n",
    "import pickle\n"
   ]
  },
  {
   "cell_type": "code",
   "execution_count": 32,
   "metadata": {},
   "outputs": [
    {
     "data": {
      "application/vnd.microsoft.datawrangler.viewer.v0+json": {
       "columns": [
        {
         "name": "index",
         "rawType": "int64",
         "type": "integer"
        },
        {
         "name": "Latitude",
         "rawType": "float64",
         "type": "float"
        },
        {
         "name": "Longitude",
         "rawType": "float64",
         "type": "float"
        },
        {
         "name": "Climate",
         "rawType": "object",
         "type": "string"
        },
        {
         "name": "Elevation",
         "rawType": "float64",
         "type": "float"
        },
        {
         "name": "Hazard_Risk",
         "rawType": "int64",
         "type": "integer"
        },
        {
         "name": "Avg_Temperature",
         "rawType": "float64",
         "type": "float"
        },
        {
         "name": "Annual_Rainfall",
         "rawType": "float64",
         "type": "float"
        },
        {
         "name": "Urban_Density",
         "rawType": "int64",
         "type": "integer"
        },
        {
         "name": "Green_Building_Suggestion",
         "rawType": "object",
         "type": "string"
        },
        {
         "name": "Reason",
         "rawType": "object",
         "type": "string"
        }
       ],
       "conversionMethod": "pd.DataFrame",
       "ref": "9ef20ae5-36d7-4ac1-9d05-c6c141bc098e",
       "rows": [
        [
         "0",
         "-58.83293681327712",
         "90.34091019112007",
         "Dry",
         "1441.4031074734737",
         "1",
         "31.44368053803371",
         "2580.541470098988",
         "1",
         "Energy-Efficient Windows & Insulation",
         "Reducing heat gain in buildings lowers energy costs for cooling."
        ],
        [
         "1",
         "-67.80541496689293",
         "174.6290744484868",
         "Dry",
         "1053.412455302322",
         "0",
         "10.517753897700068",
         "2266.17098869603",
         "0",
         "Green Roofs & Walls",
         "Urban areas with high temperatures benefit from green roofs to reduce heat absorption."
        ],
        [
         "2",
         "62.47141756866796",
         "93.81717577448882",
         "Dry",
         "1663.5277138835877",
         "1",
         "38.69805153332854",
         "1010.305225743066",
         "0",
         "Sustainable Materials (Bamboo, Recycled)",
         "Locally available materials reduce carbon footprint and improve insulation."
        ],
        [
         "3",
         "12.603448015785249",
         "-115.00731925394597",
         "Temperate",
         "797.6587087295462",
         "1",
         "37.18085549923555",
         "2121.7684024032205",
         "1",
         "Greywater Recycling System",
         "Water scarcity regions benefit from recycling water for irrigation and flushing."
        ],
        [
         "4",
         "-77.08508644429597",
         "153.34287955792325",
         "Tropical",
         "1070.940158468654",
         "0",
         "38.25069098982784",
         "2746.5023604703165",
         "0",
         "Green Roofs & Walls",
         "Urban areas with high temperatures benefit from green roofs to reduce heat absorption."
        ]
       ],
       "shape": {
        "columns": 10,
        "rows": 5
       }
      },
      "text/html": [
       "<div>\n",
       "<style scoped>\n",
       "    .dataframe tbody tr th:only-of-type {\n",
       "        vertical-align: middle;\n",
       "    }\n",
       "\n",
       "    .dataframe tbody tr th {\n",
       "        vertical-align: top;\n",
       "    }\n",
       "\n",
       "    .dataframe thead th {\n",
       "        text-align: right;\n",
       "    }\n",
       "</style>\n",
       "<table border=\"1\" class=\"dataframe\">\n",
       "  <thead>\n",
       "    <tr style=\"text-align: right;\">\n",
       "      <th></th>\n",
       "      <th>Latitude</th>\n",
       "      <th>Longitude</th>\n",
       "      <th>Climate</th>\n",
       "      <th>Elevation</th>\n",
       "      <th>Hazard_Risk</th>\n",
       "      <th>Avg_Temperature</th>\n",
       "      <th>Annual_Rainfall</th>\n",
       "      <th>Urban_Density</th>\n",
       "      <th>Green_Building_Suggestion</th>\n",
       "      <th>Reason</th>\n",
       "    </tr>\n",
       "  </thead>\n",
       "  <tbody>\n",
       "    <tr>\n",
       "      <th>0</th>\n",
       "      <td>-58.832937</td>\n",
       "      <td>90.340910</td>\n",
       "      <td>Dry</td>\n",
       "      <td>1441.403107</td>\n",
       "      <td>1</td>\n",
       "      <td>31.443681</td>\n",
       "      <td>2580.541470</td>\n",
       "      <td>1</td>\n",
       "      <td>Energy-Efficient Windows &amp; Insulation</td>\n",
       "      <td>Reducing heat gain in buildings lowers energy ...</td>\n",
       "    </tr>\n",
       "    <tr>\n",
       "      <th>1</th>\n",
       "      <td>-67.805415</td>\n",
       "      <td>174.629074</td>\n",
       "      <td>Dry</td>\n",
       "      <td>1053.412455</td>\n",
       "      <td>0</td>\n",
       "      <td>10.517754</td>\n",
       "      <td>2266.170989</td>\n",
       "      <td>0</td>\n",
       "      <td>Green Roofs &amp; Walls</td>\n",
       "      <td>Urban areas with high temperatures benefit fro...</td>\n",
       "    </tr>\n",
       "    <tr>\n",
       "      <th>2</th>\n",
       "      <td>62.471418</td>\n",
       "      <td>93.817176</td>\n",
       "      <td>Dry</td>\n",
       "      <td>1663.527714</td>\n",
       "      <td>1</td>\n",
       "      <td>38.698052</td>\n",
       "      <td>1010.305226</td>\n",
       "      <td>0</td>\n",
       "      <td>Sustainable Materials (Bamboo, Recycled)</td>\n",
       "      <td>Locally available materials reduce carbon foot...</td>\n",
       "    </tr>\n",
       "    <tr>\n",
       "      <th>3</th>\n",
       "      <td>12.603448</td>\n",
       "      <td>-115.007319</td>\n",
       "      <td>Temperate</td>\n",
       "      <td>797.658709</td>\n",
       "      <td>1</td>\n",
       "      <td>37.180855</td>\n",
       "      <td>2121.768402</td>\n",
       "      <td>1</td>\n",
       "      <td>Greywater Recycling System</td>\n",
       "      <td>Water scarcity regions benefit from recycling ...</td>\n",
       "    </tr>\n",
       "    <tr>\n",
       "      <th>4</th>\n",
       "      <td>-77.085086</td>\n",
       "      <td>153.342880</td>\n",
       "      <td>Tropical</td>\n",
       "      <td>1070.940158</td>\n",
       "      <td>0</td>\n",
       "      <td>38.250691</td>\n",
       "      <td>2746.502360</td>\n",
       "      <td>0</td>\n",
       "      <td>Green Roofs &amp; Walls</td>\n",
       "      <td>Urban areas with high temperatures benefit fro...</td>\n",
       "    </tr>\n",
       "  </tbody>\n",
       "</table>\n",
       "</div>"
      ],
      "text/plain": [
       "    Latitude   Longitude    Climate    Elevation  Hazard_Risk  \\\n",
       "0 -58.832937   90.340910        Dry  1441.403107            1   \n",
       "1 -67.805415  174.629074        Dry  1053.412455            0   \n",
       "2  62.471418   93.817176        Dry  1663.527714            1   \n",
       "3  12.603448 -115.007319  Temperate   797.658709            1   \n",
       "4 -77.085086  153.342880   Tropical  1070.940158            0   \n",
       "\n",
       "   Avg_Temperature  Annual_Rainfall  Urban_Density  \\\n",
       "0        31.443681      2580.541470              1   \n",
       "1        10.517754      2266.170989              0   \n",
       "2        38.698052      1010.305226              0   \n",
       "3        37.180855      2121.768402              1   \n",
       "4        38.250691      2746.502360              0   \n",
       "\n",
       "                  Green_Building_Suggestion  \\\n",
       "0     Energy-Efficient Windows & Insulation   \n",
       "1                       Green Roofs & Walls   \n",
       "2  Sustainable Materials (Bamboo, Recycled)   \n",
       "3                Greywater Recycling System   \n",
       "4                       Green Roofs & Walls   \n",
       "\n",
       "                                              Reason  \n",
       "0  Reducing heat gain in buildings lowers energy ...  \n",
       "1  Urban areas with high temperatures benefit fro...  \n",
       "2  Locally available materials reduce carbon foot...  \n",
       "3  Water scarcity regions benefit from recycling ...  \n",
       "4  Urban areas with high temperatures benefit fro...  "
      ]
     },
     "execution_count": 32,
     "metadata": {},
     "output_type": "execute_result"
    }
   ],
   "source": [
    "# Load the dataset\n",
    "df = pd.read_csv(\"green_building_dataset_100000.csv\")\n",
    "\n",
    "# Display first few rows\n",
    "df.head()\n"
   ]
  },
  {
   "cell_type": "code",
   "execution_count": 33,
   "metadata": {},
   "outputs": [],
   "source": [
    "# Encode Green Building Suggestions\n",
    "le_suggestion = LabelEncoder()\n",
    "df[\"Green_Building_Num\"] = le_suggestion.fit_transform(df[\"Green_Building_Suggestion\"])\n",
    "\n",
    "# Encode Climate Types\n",
    "climate_map = {\"Tropical\": 0, \"Dry\": 1, \"Temperate\": 2, \"Continental\": 3}\n",
    "df[\"Climate_Num\"] = df[\"Climate\"].map(climate_map)\n"
   ]
  },
  {
   "cell_type": "code",
   "execution_count": 34,
   "metadata": {},
   "outputs": [],
   "source": [
    "X = df[[\"Latitude\", \"Longitude\", \"Climate_Num\", \"Elevation\", \"Hazard_Risk\", \"Avg_Temperature\", \"Annual_Rainfall\", \"Urban_Density\"]]\n",
    "y = df[\"Green_Building_Num\"]\n",
    "\n",
    "# Split Data (80% Train, 20% Test)\n",
    "X_train, X_test, y_train, y_test = train_test_split(X, y, test_size=0.2, random_state=42)\n"
   ]
  },
  {
   "cell_type": "code",
   "execution_count": 35,
   "metadata": {},
   "outputs": [
    {
     "name": "stdout",
     "output_type": "stream",
     "text": [
      "Model trained and saved successfully!\n"
     ]
    }
   ],
   "source": [
    "# Train Optimized Random Forest Model\n",
    "rf = RandomForestClassifier(n_estimators=1000, max_depth=30, min_samples_split=2, random_state=42)\n",
    "rf.fit(X_train, y_train)\n",
    "\n",
    "# Save the trained model\n",
    "with open(\"rf_green_building.pkl\", \"wb\") as model_file:\n",
    "    pickle.dump(rf, model_file)\n",
    "print(\"Model trained and saved successfully!\")\n"
   ]
  },
  {
   "cell_type": "code",
   "execution_count": 44,
   "metadata": {},
   "outputs": [],
   "source": [
    "# Predict on Test Set\n",
    "y_pred = rf.predict(X_test)\n",
    "\n",
    "# Compute Accuracy\n",
    "accuracy = accuracy_score(y_test, y_pred)\n",
    "# print(f\"Green Building Suggestion Model Accuracy: {accuracy * 100:.2f}%\")\n"
   ]
  },
  {
   "cell_type": "code",
   "execution_count": 45,
   "metadata": {},
   "outputs": [
    {
     "name": "stdout",
     "output_type": "stream",
     "text": [
      "Label encoder saved successfully!\n"
     ]
    }
   ],
   "source": [
    "import pickle\n",
    "\n",
    "# Save the Label Encoder after training\n",
    "with open(\"label_encoder.pkl\", \"wb\") as le_file:\n",
    "    pickle.dump(le_suggestion, le_file)\n",
    "\n",
    "print(\"Label encoder saved successfully!\")\n"
   ]
  },
  {
   "cell_type": "code",
   "execution_count": 53,
   "metadata": {},
   "outputs": [
    {
     "name": "stdout",
     "output_type": "stream",
     "text": [
      "Top 3 Recommended Green Building Practices:\n",
      "Greywater Recycling System: Water scarcity regions benefit from recycling water for irrigation and flushing.\n",
      "Energy-Efficient Windows & Insulation: Reducing heat gain in buildings lowers energy costs for cooling.\n",
      "Sustainable Materials (Bamboo, Recycled): Locally available materials reduce carbon footprint and improve insulation.\n"
     ]
    }
   ],
   "source": [
    "import numpy as np\n",
    "import pandas as pd\n",
    "import pickle\n",
    "\n",
    "# Load the Trained Model\n",
    "with open(\"rf_green_building.pkl\", \"rb\") as model_file:\n",
    "    rf = pickle.load(model_file)\n",
    "\n",
    "# Load Label Encoder\n",
    "with open(\"label_encoder.pkl\", \"rb\") as le_file:\n",
    "    le_suggestion = pickle.load(le_file)\n",
    "\n",
    "# Load the Updated Dataset\n",
    "df = pd.read_csv(\"green_building_dataset_100000.csv\")\n",
    "\n",
    "# Create a Dictionary for Reasons\n",
    "reasons_dict = dict(zip(df[\"Green_Building_Suggestion\"], df[\"Reason\"]))\n",
    "\n",
    "# Function to Predict Multiple Green Building Suggestions with Reasons\n",
    "def predict_green_building(lat, lon, climate, elevation, hazard, temp, rainfall, urban_density, top_n=3):\n",
    "    climate_map = {\"Tropical\": 0, \"Dry\": 1, \"Temperate\": 2, \"Continental\": 3}\n",
    "    climate_num = climate_map.get(climate, 0)\n",
    "\n",
    "    # Convert input into a properly formatted DataFrame\n",
    "    input_data = pd.DataFrame(np.array([[lat, lon, climate_num, elevation, hazard, temp, rainfall, urban_density]]),\n",
    "                              columns=[\"Latitude\", \"Longitude\", \"Climate_Num\", \"Elevation\", \"Hazard_Risk\",\n",
    "                                       \"Avg_Temperature\", \"Annual_Rainfall\", \"Urban_Density\"])\n",
    "\n",
    "    # Get Probability Scores for Each Suggestion\n",
    "    probabilities = rf.predict_proba(input_data)[0]  # Avoids feature name warnings\n",
    "\n",
    "    # Get Top N Predictions\n",
    "    top_indices = np.argsort(probabilities)[-top_n:][::-1]  # Sort by highest probability\n",
    "    top_suggestions = le_suggestion.inverse_transform(top_indices)\n",
    "\n",
    "    # Create Output with Suggestions & Reasons\n",
    "    recommendations = []\n",
    "    for suggestion in top_suggestions:\n",
    "        reason = reasons_dict.get(suggestion, \"No specific reason available.\")\n",
    "        recommendations.append(f\"{suggestion}: {reason}\")\n",
    "\n",
    "    return f\"Top {top_n} Recommended Green Building Practices:\\n\" + \"\\n\".join(recommendations)\n",
    "\n",
    "# Example Prediction\n",
    "print(predict_green_building(20.3850, 78.4867, \"Temprate\", 500, 1, 32, 1200, 1))\n"
   ]
  }
 ],
 "metadata": {
  "kernelspec": {
   "display_name": "base",
   "language": "python",
   "name": "python3"
  },
  "language_info": {
   "codemirror_mode": {
    "name": "ipython",
    "version": 3
   },
   "file_extension": ".py",
   "mimetype": "text/x-python",
   "name": "python",
   "nbconvert_exporter": "python",
   "pygments_lexer": "ipython3",
   "version": "3.12.2"
  }
 },
 "nbformat": 4,
 "nbformat_minor": 2
}
